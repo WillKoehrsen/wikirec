{
 "cells": [
  {
   "cell_type": "markdown",
   "id": "authentic-python",
   "metadata": {
    "toc": true
   },
   "source": [
    "<h1>Table of Contents<span class=\"tocSkip\"></span></h1>\n",
    "<div class=\"toc\"><ul class=\"toc-item\"><li><span><a href=\"#Download-and-Clean-Data\" data-toc-modified-id=\"Download-and-Clean-Data-1\"><span class=\"toc-item-num\">1&nbsp;&nbsp;</span>Download and Clean Data</a></span></li><li><span><a href=\"#Derive-Optimal-LDA-Number-of-Topics\" data-toc-modified-id=\"Derive-Optimal-LDA-Number-of-Topics-2\"><span class=\"toc-item-num\">2&nbsp;&nbsp;</span>Derive Optimal LDA Number of Topics</a></span></li><li><span><a href=\"#Making-Recommendations\" data-toc-modified-id=\"Making-Recommendations-3\"><span class=\"toc-item-num\">3&nbsp;&nbsp;</span>Making Recommendations</a></span><ul class=\"toc-item\"><li><span><a href=\"#BERT\" data-toc-modified-id=\"BERT-3.1\"><span class=\"toc-item-num\">3.1&nbsp;&nbsp;</span>BERT</a></span></li><li><span><a href=\"#Doc2vec\" data-toc-modified-id=\"Doc2vec-3.2\"><span class=\"toc-item-num\">3.2&nbsp;&nbsp;</span>Doc2vec</a></span></li><li><span><a href=\"#LDA\" data-toc-modified-id=\"LDA-3.3\"><span class=\"toc-item-num\">3.3&nbsp;&nbsp;</span>LDA</a></span></li><li><span><a href=\"#TFIDF\" data-toc-modified-id=\"TFIDF-3.4\"><span class=\"toc-item-num\">3.4&nbsp;&nbsp;</span>TFIDF</a></span></li></ul></li></ul></div>"
   ]
  },
  {
   "cell_type": "code",
   "execution_count": 5,
   "id": "continuing-lebanon",
   "metadata": {
    "ExecuteTime": {
     "end_time": "2021-03-06T11:10:48.572915Z",
     "start_time": "2021-03-06T11:10:48.567018Z"
    }
   },
   "outputs": [
    {
     "data": {
      "text/html": [
       "<style>.container { width:99% !important; }</style>"
      ],
      "text/plain": [
       "<IPython.core.display.HTML object>"
      ]
     },
     "metadata": {},
     "output_type": "display_data"
    }
   ],
   "source": [
    "import json\n",
    "\n",
    "import matplotlib.pyplot as plt\n",
    "import seaborn as sns\n",
    "\n",
    "from wikirec import data_utils, model, utils\n",
    "\n",
    "sns.set(style=\"darkgrid\")\n",
    "sns.set(rc={\"figure.figsize\": (15, 5)})\n",
    "\n",
    "from IPython.core.display import display, HTML\n",
    "\n",
    "display(HTML(\"<style>.container { width:99% !important; }</style>\"))"
   ]
  },
  {
   "cell_type": "markdown",
   "id": "violent-threshold",
   "metadata": {},
   "source": [
    "# Download and Clean Data"
   ]
  },
  {
   "cell_type": "code",
   "execution_count": 6,
   "id": "numerical-formation",
   "metadata": {
    "ExecuteTime": {
     "end_time": "2021-03-06T11:10:50.308032Z",
     "start_time": "2021-03-06T11:10:49.507048Z"
    }
   },
   "outputs": [
    {
     "name": "stdout",
     "output_type": "stream",
     "text": [
      "../wikirec/enwiki_dump\n",
      "Files already available in the ../wikirec/enwiki_dump directory.\n"
     ]
    },
    {
     "data": {
      "text/plain": [
       "58"
      ]
     },
     "execution_count": 6,
     "metadata": {},
     "output_type": "execute_result"
    }
   ],
   "source": [
    "files = data_utils.download_wiki(\n",
    "    language=\"en\", target_dir=\"../wikirec/enwiki_dump\", file_limit=-1, dump_id=False\n",
    ")\n",
    "len(files)"
   ]
  },
  {
   "cell_type": "code",
   "execution_count": 7,
   "id": "sweet-texture",
   "metadata": {
    "ExecuteTime": {
     "end_time": "2021-03-06T11:12:08.115787Z",
     "start_time": "2021-03-06T11:10:59.525223Z"
    }
   },
   "outputs": [
    {
     "name": "stdout",
     "output_type": "stream",
     "text": [
      "Making ../wikirec/enwiki_partitions directory for the partitions\n"
     ]
    },
    {
     "data": {
      "application/vnd.jupyter.widget-view+json": {
       "model_id": "351fb66265514d36ba7e79557f94fa50",
       "version_major": 2,
       "version_minor": 0
      },
      "text/plain": [
       "Files partitioned:   0%|          | 0/59 [00:00<?, ?file/s]"
      ]
     },
     "metadata": {},
     "output_type": "display_data"
    },
    {
     "name": "stdout",
     "output_type": "stream",
     "text": [
      "File ../wikirec/enwiki_movies.ndjson with articles for the given topic saved\n",
      "Deleting ../wikirec/enwiki_partitions directory\n"
     ]
    }
   ],
   "source": [
    "data_utils.parse_to_ndjson(\n",
    "    topic=\"movies\",\n",
    "    output_path=\"../wikirec/enwiki_movies.ndjson\",\n",
    "    input_dir=\"../wikirec/enwiki_dump\",\n",
    "    partitions_dir=\"../wikirec/enwiki_partitions\",\n",
    "    limit=2,\n",
    "    delete_parsed_files=True,\n",
    "    multicore=True,\n",
    "    verbose=True,\n",
    ")"
   ]
  },
  {
   "cell_type": "code",
   "execution_count": 8,
   "id": "lightweight-state",
   "metadata": {
    "ExecuteTime": {
     "end_time": "2021-03-06T11:12:46.368788Z",
     "start_time": "2021-03-06T11:12:46.359809Z"
    }
   },
   "outputs": [
    {
     "name": "stdout",
     "output_type": "stream",
     "text": [
      "Found a total of 118 movies.\n"
     ]
    }
   ],
   "source": [
    "with open(\"../wikirec/enwiki_movies.ndjson\", \"r\") as fin:\n",
    "    movies = [json.loads(l) for l in fin]\n",
    "\n",
    "print(f\"Found a total of {len(movies)} movies.\")"
   ]
  },
  {
   "cell_type": "code",
   "execution_count": 9,
   "id": "individual-warrior",
   "metadata": {
    "ExecuteTime": {
     "end_time": "2021-03-06T11:12:48.315084Z",
     "start_time": "2021-03-06T11:12:48.311992Z"
    }
   },
   "outputs": [],
   "source": [
    "titles = [m[0] for m in movies]\n",
    "texts = [m[1] for m in movies]"
   ]
  },
  {
   "cell_type": "code",
   "execution_count": 10,
   "id": "blessed-swaziland",
   "metadata": {
    "ExecuteTime": {
     "end_time": "2021-03-06T11:13:22.939820Z",
     "start_time": "2021-03-06T11:12:55.125487Z"
    }
   },
   "outputs": [
    {
     "data": {
      "application/vnd.jupyter.widget-view+json": {
       "model_id": "bb5fcc48e87b40f2994a00b59f872b7f",
       "version_major": 2,
       "version_minor": 0
      },
      "text/plain": [
       "Cleaning steps complete:   0%|          | 0/7 [00:00<?, ?steps/s]"
      ]
     },
     "metadata": {},
     "output_type": "display_data"
    }
   ],
   "source": [
    "# [:2], as return value 2 is sample indexes if used\n",
    "text_corpus, token_corpus = data_utils.clean(\n",
    "    texts=texts,\n",
    "    min_freq=2,\n",
    "    min_word_len=3,\n",
    "    max_text_len=None,\n",
    "    remove_names=True,\n",
    "    sample_size=1,\n",
    "    verbose=True,\n",
    ")[:2]"
   ]
  },
  {
   "cell_type": "markdown",
   "id": "black-target",
   "metadata": {},
   "source": [
    "# Derive Optimal LDA Number of Topics"
   ]
  },
  {
   "cell_type": "code",
   "execution_count": null,
   "id": "wooden-algeria",
   "metadata": {},
   "outputs": [],
   "source": []
  },
  {
   "cell_type": "code",
   "execution_count": null,
   "id": "close-donor",
   "metadata": {
    "ExecuteTime": {
     "start_time": "2021-03-06T11:27:26.250Z"
    }
   },
   "outputs": [
    {
     "data": {
      "application/vnd.jupyter.widget-view+json": {
       "model_id": "0362ddb27268400aa11523410ce9c9a3",
       "version_major": 2,
       "version_minor": 0
      },
      "text/plain": [
       "LDA models ran:   0%|          | 0/12 [00:00<?, ?it/s]"
      ]
     },
     "metadata": {},
     "output_type": "display_data"
    }
   ],
   "source": [
    "topic_nums_to_compare = [1, 5, 10, 15, 20, 25, 30, 35, 40, 45, 50]\n",
    "\n",
    "utils.graph_lda_topic_evals(\n",
    "    corpus=token_corpus,\n",
    "    num_topic_words=10,\n",
    "    topic_nums_to_compare=topic_nums_to_compare,\n",
    "    metrics=True,\n",
    "    verbose=True,\n",
    ")\n",
    "\n",
    "plt.show()"
   ]
  },
  {
   "cell_type": "markdown",
   "id": "surface-mistress",
   "metadata": {},
   "source": [
    "# Making Recommendations"
   ]
  },
  {
   "cell_type": "markdown",
   "id": "billion-popularity",
   "metadata": {},
   "source": [
    "## BERT"
   ]
  },
  {
   "cell_type": "code",
   "execution_count": 23,
   "id": "hollow-liabilities",
   "metadata": {
    "ExecuteTime": {
     "end_time": "2021-03-06T11:19:24.606943Z",
     "start_time": "2021-03-06T11:18:58.035923Z"
    }
   },
   "outputs": [],
   "source": [
    "bert_sim_matrix = model.gen_sim_matrix(\n",
    "    method=\"bert\", metric=\"cosine\", corpus=text_corpus  # texts\n",
    ")"
   ]
  },
  {
   "cell_type": "code",
   "execution_count": 24,
   "id": "representative-arrest",
   "metadata": {
    "ExecuteTime": {
     "end_time": "2021-03-06T11:19:41.107529Z",
     "start_time": "2021-03-06T11:19:41.102393Z"
    }
   },
   "outputs": [
    {
     "data": {
      "text/plain": [
       "[['The Love Trap', 0.9488186],\n",
       " ['Rosie!', 0.93960285],\n",
       " ['Valet Girls', 0.91204715],\n",
       " ['10:10', 0.8811502],\n",
       " ['Sema Ragalai', 0.8686013],\n",
       " ['The Nickel-Hopper', 0.8544489],\n",
       " [\"The Rake's Progress\", 0.85347676],\n",
       " ['Secret Ingredient', 0.8496946],\n",
       " ['Invisibles', 0.8361241],\n",
       " ['Paulo Roberto Cotechiño centravanti di sfondamento', 0.83566755]]"
      ]
     },
     "execution_count": 24,
     "metadata": {},
     "output_type": "execute_result"
    }
   ],
   "source": [
    "model.recommend(\n",
    "    inputs=\"Stonerville\", titles=titles, sim_matrix=bert_sim_matrix, n=10,\n",
    ")"
   ]
  },
  {
   "cell_type": "markdown",
   "id": "serious-director",
   "metadata": {},
   "source": [
    "## Doc2vec"
   ]
  },
  {
   "cell_type": "code",
   "execution_count": 25,
   "id": "neutral-civilization",
   "metadata": {
    "ExecuteTime": {
     "end_time": "2021-03-06T11:20:04.521821Z",
     "start_time": "2021-03-06T11:19:47.397677Z"
    }
   },
   "outputs": [],
   "source": [
    "doc2vec_sim_matrix = model.gen_sim_matrix(\n",
    "    method=\"doc2vec\", metric=\"cosine\", corpus=text_corpus  # texts\n",
    ")"
   ]
  },
  {
   "cell_type": "code",
   "execution_count": 26,
   "id": "pending-assault",
   "metadata": {
    "ExecuteTime": {
     "end_time": "2021-03-06T11:20:04.528618Z",
     "start_time": "2021-03-06T11:20:04.523785Z"
    }
   },
   "outputs": [
    {
     "data": {
      "text/plain": [
       "[['Invisibles', 0.7893594798896474],\n",
       " ['Curtain Call', 0.7393965651678354],\n",
       " ['The Love Trap', 0.727949916490964],\n",
       " ['Rosie!', 0.7047266447752335],\n",
       " ['I Want to Be a Chorus Girl', 0.6893568568272742],\n",
       " ['Scene of the Crime', 0.67100570477152],\n",
       " ['Police Bullets', 0.6567080003572627],\n",
       " ['10:10', 0.6451552405100502],\n",
       " ['Banished', 0.6428815395556589],\n",
       " ['Swordsmen in Double Flag Town', 0.6218292696884203]]"
      ]
     },
     "execution_count": 26,
     "metadata": {},
     "output_type": "execute_result"
    }
   ],
   "source": [
    "model.recommend(\n",
    "    inputs=\"Stonerville\", titles=titles, sim_matrix=doc2vec_sim_matrix, n=10,\n",
    ")"
   ]
  },
  {
   "cell_type": "markdown",
   "id": "invisible-visiting",
   "metadata": {},
   "source": [
    "## LDA"
   ]
  },
  {
   "cell_type": "code",
   "execution_count": 19,
   "id": "postal-press",
   "metadata": {
    "ExecuteTime": {
     "end_time": "2021-03-06T11:18:14.370829Z",
     "start_time": "2021-03-06T11:18:13.700035Z"
    }
   },
   "outputs": [],
   "source": [
    "lda_sim_matrix = model.gen_sim_matrix(\n",
    "    method=\"lda\", metric=\"cosine\", corpus=token_corpus, num_topics=35,  # tokens\n",
    ")"
   ]
  },
  {
   "cell_type": "code",
   "execution_count": 20,
   "id": "activated-import",
   "metadata": {
    "ExecuteTime": {
     "end_time": "2021-03-06T11:18:15.671225Z",
     "start_time": "2021-03-06T11:18:15.664946Z"
    }
   },
   "outputs": [
    {
     "data": {
      "text/plain": [
       "[['The Saddle Buster', 1.0],\n",
       " ['Oasis of the Zombies', 1.0],\n",
       " ['Curtain Call', 1.0],\n",
       " [\"My Family's Beautiful!\", 1.0],\n",
       " ['The Love Trap', 1.0],\n",
       " ['José', 1.0],\n",
       " ['10:10', 0.94733196],\n",
       " ['The Dead and the Damned', 0.88816935],\n",
       " ['The Mall, The Merrier', 0.6097185],\n",
       " ['I Want to Be a Chorus Girl', 0.5968604]]"
      ]
     },
     "execution_count": 20,
     "metadata": {},
     "output_type": "execute_result"
    }
   ],
   "source": [
    "model.recommend(\n",
    "    inputs=\"Stonerville\", titles=titles, sim_matrix=lda_sim_matrix, n=10,\n",
    ")"
   ]
  },
  {
   "cell_type": "markdown",
   "id": "earlier-custody",
   "metadata": {},
   "source": [
    "## TFIDF"
   ]
  },
  {
   "cell_type": "code",
   "execution_count": 27,
   "id": "optional-fever",
   "metadata": {
    "ExecuteTime": {
     "end_time": "2021-03-06T11:20:32.957646Z",
     "start_time": "2021-03-06T11:20:32.910427Z"
    }
   },
   "outputs": [],
   "source": [
    "tfidf_sim_matrix = model.gen_sim_matrix(\n",
    "    method=\"tfidf\", metric=\"cosine\", corpus=text_corpus  # texts\n",
    ")"
   ]
  },
  {
   "cell_type": "code",
   "execution_count": 28,
   "id": "current-third",
   "metadata": {
    "ExecuteTime": {
     "end_time": "2021-03-06T11:20:33.836968Z",
     "start_time": "2021-03-06T11:20:33.831822Z"
    }
   },
   "outputs": [
    {
     "data": {
      "text/plain": [
       "[['The Love Trap', 0.6765717615744917],\n",
       " ['Rosie!', 0.5272319150896027],\n",
       " ['The Nickel-Hopper', 0.495849732996128],\n",
       " ['Valet Girls', 0.46305453075642083],\n",
       " ['The Conspiracy', 0.4156999199183507],\n",
       " ['The Dangerous Flirt', 0.4109142602072243],\n",
       " ['Police Bullets', 0.4058402224742317],\n",
       " ['Secret Ingredient', 0.40408996326991303],\n",
       " ['10:10', 0.38373877960261327],\n",
       " ['Sons of Liberty', 0.36651363562819284]]"
      ]
     },
     "execution_count": 28,
     "metadata": {},
     "output_type": "execute_result"
    }
   ],
   "source": [
    "model.recommend(\n",
    "    inputs=\"Stonerville\", titles=titles, sim_matrix=tfidf_sim_matrix, n=10,\n",
    ")"
   ]
  },
  {
   "cell_type": "code",
   "execution_count": null,
   "id": "chief-ordinance",
   "metadata": {},
   "outputs": [],
   "source": []
  }
 ],
 "metadata": {
  "kernelspec": {
   "display_name": "Python [conda env:wikirec-dev] *",
   "language": "python",
   "name": "conda-env-wikirec-dev-py"
  },
  "language_info": {
   "codemirror_mode": {
    "name": "ipython",
    "version": 3
   },
   "file_extension": ".py",
   "mimetype": "text/x-python",
   "name": "python",
   "nbconvert_exporter": "python",
   "pygments_lexer": "ipython3",
   "version": "3.7.10"
  },
  "toc": {
   "base_numbering": 1,
   "nav_menu": {},
   "number_sections": true,
   "sideBar": true,
   "skip_h1_title": false,
   "title_cell": "Table of Contents",
   "title_sidebar": "Contents",
   "toc_cell": true,
   "toc_position": {},
   "toc_section_display": true,
   "toc_window_display": false
  }
 },
 "nbformat": 4,
 "nbformat_minor": 5
}
