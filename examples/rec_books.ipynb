{
 "cells": [
  {
   "cell_type": "markdown",
   "id": "following-convert",
   "metadata": {
    "toc": true
   },
   "source": [
    "<h1>Table of Contents<span class=\"tocSkip\"></span></h1>\n",
    "<div class=\"toc\"><ul class=\"toc-item\"><li><span><a href=\"#Download-and-Clean-Data\" data-toc-modified-id=\"Download-and-Clean-Data-1\"><span class=\"toc-item-num\">1&nbsp;&nbsp;</span>Download and Clean Data</a></span></li><li><span><a href=\"#Derive-Optimal-LDA-Number-of-Topics\" data-toc-modified-id=\"Derive-Optimal-LDA-Number-of-Topics-2\"><span class=\"toc-item-num\">2&nbsp;&nbsp;</span>Derive Optimal LDA Number of Topics</a></span></li><li><span><a href=\"#Making-Recommendations\" data-toc-modified-id=\"Making-Recommendations-3\"><span class=\"toc-item-num\">3&nbsp;&nbsp;</span>Making Recommendations</a></span><ul class=\"toc-item\"><li><span><a href=\"#BERT\" data-toc-modified-id=\"BERT-3.1\"><span class=\"toc-item-num\">3.1&nbsp;&nbsp;</span>BERT</a></span></li><li><span><a href=\"#Doc2vec\" data-toc-modified-id=\"Doc2vec-3.2\"><span class=\"toc-item-num\">3.2&nbsp;&nbsp;</span>Doc2vec</a></span></li><li><span><a href=\"#LDA\" data-toc-modified-id=\"LDA-3.3\"><span class=\"toc-item-num\">3.3&nbsp;&nbsp;</span>LDA</a></span></li><li><span><a href=\"#TFIDF\" data-toc-modified-id=\"TFIDF-3.4\"><span class=\"toc-item-num\">3.4&nbsp;&nbsp;</span>TFIDF</a></span></li></ul></li></ul></div>"
   ]
  },
  {
   "cell_type": "code",
   "execution_count": 1,
   "id": "continuing-lebanon",
   "metadata": {
    "ExecuteTime": {
     "end_time": "2021-03-06T11:54:06.628928Z",
     "start_time": "2021-03-06T11:53:57.601953Z"
    }
   },
   "outputs": [
    {
     "data": {
      "text/html": [
       "<style>.container { width:99% !important; }</style>"
      ],
      "text/plain": [
       "<IPython.core.display.HTML object>"
      ]
     },
     "metadata": {},
     "output_type": "display_data"
    }
   ],
   "source": [
    "import json\n",
    "\n",
    "import matplotlib.pyplot as plt\n",
    "import seaborn as sns\n",
    "\n",
    "sns.set(style=\"darkgrid\")\n",
    "sns.set(rc={\"figure.figsize\": (15, 5)})\n",
    "\n",
    "from wikirec import data_utils, model, utils\n",
    "\n",
    "from IPython.core.display import display, HTML\n",
    "\n",
    "display(HTML(\"<style>.container { width:99% !important; }</style>\"))"
   ]
  },
  {
   "cell_type": "markdown",
   "id": "assisted-horror",
   "metadata": {},
   "source": [
    "# Download and Clean Data"
   ]
  },
  {
   "cell_type": "code",
   "execution_count": 2,
   "id": "capital-nitrogen",
   "metadata": {
    "ExecuteTime": {
     "end_time": "2021-03-06T11:54:11.685761Z",
     "start_time": "2021-03-06T11:54:10.820317Z"
    }
   },
   "outputs": [
    {
     "name": "stdout",
     "output_type": "stream",
     "text": [
      "Files already available in the ../wikirec/enwiki_dump directory.\n"
     ]
    },
    {
     "data": {
      "text/plain": [
       "58"
      ]
     },
     "execution_count": 2,
     "metadata": {},
     "output_type": "execute_result"
    }
   ],
   "source": [
    "files = data_utils.download_wiki(\n",
    "    language=\"en\", target_dir=\"../wikirec/enwiki_dump\", file_limit=-1, dump_id=False\n",
    ")\n",
    "len(files)"
   ]
  },
  {
   "cell_type": "code",
   "execution_count": 3,
   "id": "adjacent-fraud",
   "metadata": {
    "ExecuteTime": {
     "end_time": "2021-03-06T21:15:48.915702Z",
     "start_time": "2021-03-06T11:54:13.606642Z"
    }
   },
   "outputs": [
    {
     "name": "stdout",
     "output_type": "stream",
     "text": [
      "Making ../wikirec/enwiki_book_partitions directory for the partitions\n"
     ]
    },
    {
     "data": {
      "application/vnd.jupyter.widget-view+json": {
       "model_id": "f08d7a9d73924448bc09e6d9c303ae99",
       "version_major": 2,
       "version_minor": 0
      },
      "text/plain": [
       "Files partitioned:   0%|          | 0/59 [00:00<?, ?file/s]"
      ]
     },
     "metadata": {},
     "output_type": "display_data"
    },
    {
     "name": "stdout",
     "output_type": "stream",
     "text": [
      "File ../wikirec/enwiki_books.ndjson with articles for the given topic saved\n",
      "Deleting ../wikirec/enwiki_book_partitions directory\n"
     ]
    }
   ],
   "source": [
    "data_utils.parse_to_ndjson(\n",
    "    topic=\"books\",\n",
    "    output_path=\"../wikirec/enwiki_books.ndjson\",\n",
    "    input_dir=\"../wikirec/enwiki_dump\",\n",
    "    partitions_dir=\"../wikirec/enwiki_book_partitions\",\n",
    "    limit=None,\n",
    "    delete_parsed_files=True,\n",
    "    multicore=True,\n",
    "    verbose=True,\n",
    ")"
   ]
  },
  {
   "cell_type": "code",
   "execution_count": 3,
   "id": "automatic-denver",
   "metadata": {
    "ExecuteTime": {
     "end_time": "2021-03-06T11:22:03.413538Z",
     "start_time": "2021-03-06T11:22:03.402985Z"
    }
   },
   "outputs": [
    {
     "name": "stdout",
     "output_type": "stream",
     "text": [
      "Found a total of 118 books.\n"
     ]
    }
   ],
   "source": [
    "with open(\"../wikirec/enwiki_books.ndjson\", \"r\") as fin:\n",
    "    books = [json.loads(l) for l in fin]\n",
    "\n",
    "print(f\"Found a total of {len(books)} books.\")"
   ]
  },
  {
   "cell_type": "code",
   "execution_count": 4,
   "id": "killing-request",
   "metadata": {
    "ExecuteTime": {
     "end_time": "2021-03-06T11:22:05.594664Z",
     "start_time": "2021-03-06T11:22:05.591678Z"
    }
   },
   "outputs": [],
   "source": [
    "titles = [m[0] for m in books]\n",
    "texts = [m[1] for m in books]"
   ]
  },
  {
   "cell_type": "code",
   "execution_count": 5,
   "id": "universal-mercury",
   "metadata": {
    "ExecuteTime": {
     "end_time": "2021-03-06T11:22:31.362666Z",
     "start_time": "2021-03-06T11:22:07.009392Z"
    }
   },
   "outputs": [
    {
     "data": {
      "application/vnd.jupyter.widget-view+json": {
       "model_id": "39012b59abdc4f3c9531eef89659c48d",
       "version_major": 2,
       "version_minor": 0
      },
      "text/plain": [
       "Cleaning steps complete:   0%|          | 0/7 [00:00<?, ?steps/s]"
      ]
     },
     "metadata": {},
     "output_type": "display_data"
    }
   ],
   "source": [
    "text_corpus, token_corpus, selected_idxs = data_utils.clean(\n",
    "    texts=texts,\n",
    "    min_token_freq=2,\n",
    "    min_token_len=3,\n",
    "    min_tokens=0,\n",
    "    max_token_index=-1,\n",
    "    remove_names=True,\n",
    "    sample_size=1,\n",
    "    verbose=True,\n",
    ")\n",
    "\n",
    "selected_titles = [titles[i] for i in selected_idxs]"
   ]
  },
  {
   "cell_type": "markdown",
   "id": "silver-banner",
   "metadata": {},
   "source": [
    "# Derive Optimal LDA Number of Topics"
   ]
  },
  {
   "cell_type": "code",
   "execution_count": 6,
   "id": "disabled-printer",
   "metadata": {
    "ExecuteTime": {
     "end_time": "2021-03-06T11:23:46.067580Z",
     "start_time": "2021-03-06T11:22:45.058811Z"
    }
   },
   "outputs": [
    {
     "data": {
      "application/vnd.jupyter.widget-view+json": {
       "model_id": "489cf71efdac440e8e340e804af0f37d",
       "version_major": 2,
       "version_minor": 0
      },
      "text/plain": [
       "LDA models ran:   0%|          | 0/12 [00:00<?, ?it/s]"
      ]
     },
     "metadata": {},
     "output_type": "display_data"
    },
    {
     "data": {
      "text/plain": [
       "<Figure size 1440x720 with 0 Axes>"
      ]
     },
     "metadata": {},
     "output_type": "display_data"
    },
    {
     "data": {
      "image/png": "[encoded data removed]",
      "text/plain": [
       "<Figure size 1080x360 with 1 Axes>"
      ]
     },
     "metadata": {},
     "output_type": "display_data"
    }
   ],
   "source": [
    "topic_nums_to_compare = [1, 5, 10, 15, 20, 25, 30, 35, 40, 45, 50]\n",
    "\n",
    "utils.graph_lda_topic_evals(\n",
    "    corpus=token_corpus,\n",
    "    num_topic_words=10,\n",
    "    topic_nums_to_compare=topic_nums_to_compare,\n",
    "    metrics=True,\n",
    "    verbose=True,\n",
    ")\n",
    "\n",
    "plt.show()"
   ]
  },
  {
   "cell_type": "markdown",
   "id": "marine-clone",
   "metadata": {},
   "source": [
    "# Making Recommendations"
   ]
  },
  {
   "cell_type": "markdown",
   "id": "experienced-flower",
   "metadata": {},
   "source": [
    "Note that the `text_corpus` is passed for BERT, Doc2vec, and TFIDF, but the `token_corpus` is passed to LDA."
   ]
  },
  {
   "cell_type": "code",
   "execution_count": null,
   "id": "current-photographer",
   "metadata": {},
   "outputs": [],
   "source": [
    "inputs = [\"Harry Potter and the Philosopher's Stone\", \"The Hobbit\"]"
   ]
  },
  {
   "cell_type": "markdown",
   "id": "fossil-mayor",
   "metadata": {},
   "source": [
    "## BERT"
   ]
  },
  {
   "cell_type": "code",
   "execution_count": 7,
   "id": "dominican-hours",
   "metadata": {
    "ExecuteTime": {
     "end_time": "2021-03-06T11:24:29.451253Z",
     "start_time": "2021-03-06T11:24:01.407171Z"
    }
   },
   "outputs": [],
   "source": [
    "# We can pass kwargs for sentence_transformers.SentenceTransformer.encode\n",
    "bert_sim_matrix = model.gen_sim_matrix(\n",
    "    method=\"bert\", \n",
    "    metric=\"cosine\", \n",
    "    corpus=text_corpus, \n",
    "    bert_st_model=\"xlm-r-bert-base-nli-stsb-mean-tokens\"\n",
    "    batch_size=32,\n",
    ")"
   ]
  },
  {
   "cell_type": "code",
   "execution_count": null,
   "id": "changed-custody",
   "metadata": {},
   "outputs": [],
   "source": [
    "model.recommend(\n",
    "    inputs=inputs, titles=selected_titles, sim_matrix=bert_sim_matrix, n=10,\n",
    ")"
   ]
  },
  {
   "cell_type": "markdown",
   "id": "retired-mixer",
   "metadata": {},
   "source": [
    "## Doc2vec"
   ]
  },
  {
   "cell_type": "code",
   "execution_count": null,
   "id": "relevant-antique",
   "metadata": {},
   "outputs": [],
   "source": [
    "# We can pass kwargs for gensim.models.doc2vec.Doc2Vec\n",
    "doc2vec_sim_matrix = model.gen_sim_matrix(\n",
    "    method=\"doc2vec\", \n",
    "    metric=\"cosine\", \n",
    "    corpus=text_corpus, \n",
    "    vector_size=100,\n",
    "    epochs=10,\n",
    "    alpha=0.025,\n",
    ")"
   ]
  },
  {
   "cell_type": "code",
   "execution_count": null,
   "id": "solar-prague",
   "metadata": {},
   "outputs": [],
   "source": [
    "model.recommend(\n",
    "    inputs=inputs, titles=selected_titles, sim_matrix=doc2vec_sim_matrix, n=10,\n",
    ")"
   ]
  },
  {
   "cell_type": "markdown",
   "id": "taken-power",
   "metadata": {},
   "source": [
    "## LDA"
   ]
  },
  {
   "cell_type": "code",
   "execution_count": null,
   "id": "returning-yukon",
   "metadata": {},
   "outputs": [],
   "source": [
    "# We can pass kwargs for gensim.models.ldamulticore.LdaMulticore\n",
    "lda_sim_matrix = model.gen_sim_matrix(\n",
    "    method=\"lda\", \n",
    "    metric=\"cosine\", \n",
    "    corpus=token_corpus, \n",
    "    num_topics=35,\n",
    "    passes=10,\n",
    "    decay=0.5,\n",
    ")"
   ]
  },
  {
   "cell_type": "code",
   "execution_count": null,
   "id": "desperate-prevention",
   "metadata": {},
   "outputs": [],
   "source": [
    "model.recommend(\n",
    "    inputs=inputs, titles=selected_titles, sim_matrix=lda_sim_matrix, n=10,\n",
    ")"
   ]
  },
  {
   "cell_type": "markdown",
   "id": "technological-devon",
   "metadata": {},
   "source": [
    "## TFIDF"
   ]
  },
  {
   "cell_type": "code",
   "execution_count": null,
   "id": "vulnerable-subdivision",
   "metadata": {},
   "outputs": [],
   "source": [
    "# We can pass kwargs for sklearn.feature_extraction.text.TfidfVectorizer\n",
    "tfidf_sim_matrix = model.gen_sim_matrix(\n",
    "    method=\"tfidf\", \n",
    "    metric=\"cosine\", \n",
    "    corpus=text_corpus, \n",
    "    max_df=1.0,\n",
    "    min_df=1.0,\n",
    ")"
   ]
  },
  {
   "cell_type": "code",
   "execution_count": null,
   "id": "biblical-argument",
   "metadata": {},
   "outputs": [],
   "source": [
    "model.recommend(\n",
    "    inputs=inputs, titles=selected_titles, sim_matrix=tfidf_sim_matrix, n=10,\n",
    ")"
   ]
  },
  {
   "cell_type": "code",
   "execution_count": null,
   "id": "joined-reasoning",
   "metadata": {},
   "outputs": [],
   "source": []
  }
 ],
 "metadata": {
  "kernelspec": {
   "display_name": "Python [conda env:wikirec-dev] *",
   "language": "python",
   "name": "conda-env-wikirec-dev-py"
  },
  "language_info": {
   "codemirror_mode": {
    "name": "ipython",
    "version": 3
   },
   "file_extension": ".py",
   "mimetype": "text/x-python",
   "name": "python",
   "nbconvert_exporter": "python",
   "pygments_lexer": "ipython3",
   "version": "3.7.10"
  },
  "toc": {
   "base_numbering": 1,
   "nav_menu": {},
   "number_sections": true,
   "sideBar": true,
   "skip_h1_title": false,
   "title_cell": "Table of Contents",
   "title_sidebar": "Contents",
   "toc_cell": true,
   "toc_position": {},
   "toc_section_display": true,
   "toc_window_display": false
  }
 },
 "nbformat": 4,
 "nbformat_minor": 5
}
